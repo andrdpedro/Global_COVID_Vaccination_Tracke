{
 "cells": [
  {
   "cell_type": "markdown",
   "id": "e660ed84",
   "metadata": {},
   "source": [
    "Projeto pessoal do dataset disponível no site do bloomberg pelo link https://www.bloomberg.com/graphics/covid-vaccine-tracker-global-distribution/\n",
    "\n",
    "o dicionário de dados é o Attribute Information (COVID19 vaccination Tracker file) e seus atributos são:\n",
    "Countries and regions - Name of countries\n",
    "Doses administered - Number of vaccine doses administered\n",
    "Enough for % of people - Number of vaccine doses administered as a % of population\n",
    "Percentage of population with 1+ dose - Percentage of the population vaccinated with at least 1+ dose\n",
    "Percentage of the population fully vaccinated - Percentage of the population fully vaccinated\n",
    "Daily rate of doses administered - Daily rate of doses administered"
   ]
  },
  {
   "cell_type": "code",
   "execution_count": 1,
   "id": "9c40181e",
   "metadata": {
    "ExecuteTime": {
     "end_time": "2021-09-13T15:45:26.362313Z",
     "start_time": "2021-09-13T15:45:24.803108Z"
    }
   },
   "outputs": [],
   "source": [
    "import pandas as pd\n",
    "import numpy as np\n",
    "import matplotlib.pyplot as plt\n",
    "import seaborn as sns"
   ]
  },
  {
   "cell_type": "code",
   "execution_count": 2,
   "id": "42f0c006",
   "metadata": {
    "ExecuteTime": {
     "end_time": "2021-09-13T15:45:26.377251Z",
     "start_time": "2021-09-13T15:45:26.363287Z"
    }
   },
   "outputs": [],
   "source": [
    "# pd.options.display.float_format = '{:2f}'.format"
   ]
  },
  {
   "cell_type": "code",
   "execution_count": 3,
   "id": "a69c6206",
   "metadata": {
    "ExecuteTime": {
     "end_time": "2021-09-13T15:45:26.392235Z",
     "start_time": "2021-09-13T15:45:26.378247Z"
    }
   },
   "outputs": [],
   "source": [
    "df = pd.read_csv('/Users/User/Downloads/Global_COVID_Vaccination_Tracker.csv')"
   ]
  },
  {
   "cell_type": "code",
   "execution_count": 4,
   "id": "3be09924",
   "metadata": {
    "ExecuteTime": {
     "end_time": "2021-09-13T15:45:26.423127Z",
     "start_time": "2021-09-13T15:45:26.393208Z"
    }
   },
   "outputs": [
    {
     "data": {
      "text/html": [
       "<div>\n",
       "<style scoped>\n",
       "    .dataframe tbody tr th:only-of-type {\n",
       "        vertical-align: middle;\n",
       "    }\n",
       "\n",
       "    .dataframe tbody tr th {\n",
       "        vertical-align: top;\n",
       "    }\n",
       "\n",
       "    .dataframe thead th {\n",
       "        text-align: right;\n",
       "    }\n",
       "</style>\n",
       "<table border=\"1\" class=\"dataframe\">\n",
       "  <thead>\n",
       "    <tr style=\"text-align: right;\">\n",
       "      <th></th>\n",
       "      <th>Countries and regions</th>\n",
       "      <th>Doses administered</th>\n",
       "      <th>Enough for % of people</th>\n",
       "      <th>Percentage of population with 1+ dose</th>\n",
       "      <th>Percentage of population fully vaccinated</th>\n",
       "      <th>Daily rate of doses administered</th>\n",
       "    </tr>\n",
       "  </thead>\n",
       "  <tbody>\n",
       "    <tr>\n",
       "      <th>0</th>\n",
       "      <td>Global Total</td>\n",
       "      <td>5.663213e+09</td>\n",
       "      <td>NaN</td>\n",
       "      <td>NaN</td>\n",
       "      <td>NaN</td>\n",
       "      <td>33380378.0</td>\n",
       "    </tr>\n",
       "    <tr>\n",
       "      <th>1</th>\n",
       "      <td>Mainland China</td>\n",
       "      <td>2.129833e+09</td>\n",
       "      <td>76.1</td>\n",
       "      <td>NaN</td>\n",
       "      <td>69.3</td>\n",
       "      <td>6454714.0</td>\n",
       "    </tr>\n",
       "    <tr>\n",
       "      <th>2</th>\n",
       "      <td>India</td>\n",
       "      <td>7.303371e+08</td>\n",
       "      <td>26.7</td>\n",
       "      <td>40.3</td>\n",
       "      <td>12.4</td>\n",
       "      <td>7616167.0</td>\n",
       "    </tr>\n",
       "    <tr>\n",
       "      <th>3</th>\n",
       "      <td>EU</td>\n",
       "      <td>5.469671e+08</td>\n",
       "      <td>61.6</td>\n",
       "      <td>66.0</td>\n",
       "      <td>61.5</td>\n",
       "      <td>1394444.0</td>\n",
       "    </tr>\n",
       "    <tr>\n",
       "      <th>4</th>\n",
       "      <td>U.S.</td>\n",
       "      <td>3.785697e+08</td>\n",
       "      <td>59.2</td>\n",
       "      <td>62.9</td>\n",
       "      <td>53.6</td>\n",
       "      <td>721844.0</td>\n",
       "    </tr>\n",
       "    <tr>\n",
       "      <th>...</th>\n",
       "      <td>...</td>\n",
       "      <td>...</td>\n",
       "      <td>...</td>\n",
       "      <td>...</td>\n",
       "      <td>...</td>\n",
       "      <td>...</td>\n",
       "    </tr>\n",
       "    <tr>\n",
       "      <th>202</th>\n",
       "      <td>Nauru</td>\n",
       "      <td>1.479000e+04</td>\n",
       "      <td>56.9</td>\n",
       "      <td>58.6</td>\n",
       "      <td>55.2</td>\n",
       "      <td>NaN</td>\n",
       "    </tr>\n",
       "    <tr>\n",
       "      <th>203</th>\n",
       "      <td>St. Helena</td>\n",
       "      <td>7.892000e+03</td>\n",
       "      <td>65.8</td>\n",
       "      <td>72.7</td>\n",
       "      <td>58.9</td>\n",
       "      <td>8.0</td>\n",
       "    </tr>\n",
       "    <tr>\n",
       "      <th>204</th>\n",
       "      <td>Falkland Islands</td>\n",
       "      <td>4.407000e+03</td>\n",
       "      <td>73.5</td>\n",
       "      <td>87.7</td>\n",
       "      <td>59.2</td>\n",
       "      <td>202.0</td>\n",
       "    </tr>\n",
       "    <tr>\n",
       "      <th>205</th>\n",
       "      <td>Montserrat</td>\n",
       "      <td>2.837000e+03</td>\n",
       "      <td>28.4</td>\n",
       "      <td>29.3</td>\n",
       "      <td>27.4</td>\n",
       "      <td>NaN</td>\n",
       "    </tr>\n",
       "    <tr>\n",
       "      <th>206</th>\n",
       "      <td>Eritrea</td>\n",
       "      <td>NaN</td>\n",
       "      <td>NaN</td>\n",
       "      <td>NaN</td>\n",
       "      <td>NaN</td>\n",
       "      <td>NaN</td>\n",
       "    </tr>\n",
       "  </tbody>\n",
       "</table>\n",
       "<p>207 rows × 6 columns</p>\n",
       "</div>"
      ],
      "text/plain": [
       "    Countries and regions  Doses administered  Enough for % of people  \\\n",
       "0            Global Total        5.663213e+09                     NaN   \n",
       "1          Mainland China        2.129833e+09                    76.1   \n",
       "2                   India        7.303371e+08                    26.7   \n",
       "3                      EU        5.469671e+08                    61.6   \n",
       "4                    U.S.        3.785697e+08                    59.2   \n",
       "..                    ...                 ...                     ...   \n",
       "202                 Nauru        1.479000e+04                    56.9   \n",
       "203            St. Helena        7.892000e+03                    65.8   \n",
       "204      Falkland Islands        4.407000e+03                    73.5   \n",
       "205            Montserrat        2.837000e+03                    28.4   \n",
       "206               Eritrea                 NaN                     NaN   \n",
       "\n",
       "     Percentage of population with 1+ dose  \\\n",
       "0                                      NaN   \n",
       "1                                      NaN   \n",
       "2                                     40.3   \n",
       "3                                     66.0   \n",
       "4                                     62.9   \n",
       "..                                     ...   \n",
       "202                                   58.6   \n",
       "203                                   72.7   \n",
       "204                                   87.7   \n",
       "205                                   29.3   \n",
       "206                                    NaN   \n",
       "\n",
       "     Percentage of population fully vaccinated  \\\n",
       "0                                          NaN   \n",
       "1                                         69.3   \n",
       "2                                         12.4   \n",
       "3                                         61.5   \n",
       "4                                         53.6   \n",
       "..                                         ...   \n",
       "202                                       55.2   \n",
       "203                                       58.9   \n",
       "204                                       59.2   \n",
       "205                                       27.4   \n",
       "206                                        NaN   \n",
       "\n",
       "     Daily rate of doses administered  \n",
       "0                          33380378.0  \n",
       "1                           6454714.0  \n",
       "2                           7616167.0  \n",
       "3                           1394444.0  \n",
       "4                            721844.0  \n",
       "..                                ...  \n",
       "202                               NaN  \n",
       "203                               8.0  \n",
       "204                             202.0  \n",
       "205                               NaN  \n",
       "206                               NaN  \n",
       "\n",
       "[207 rows x 6 columns]"
      ]
     },
     "execution_count": 4,
     "metadata": {},
     "output_type": "execute_result"
    }
   ],
   "source": [
    "df"
   ]
  },
  {
   "cell_type": "code",
   "execution_count": 5,
   "id": "9a947612",
   "metadata": {
    "ExecuteTime": {
     "end_time": "2021-09-13T15:45:26.470057Z",
     "start_time": "2021-09-13T15:45:26.446120Z"
    }
   },
   "outputs": [
    {
     "data": {
      "text/html": [
       "<div>\n",
       "<style scoped>\n",
       "    .dataframe tbody tr th:only-of-type {\n",
       "        vertical-align: middle;\n",
       "    }\n",
       "\n",
       "    .dataframe tbody tr th {\n",
       "        vertical-align: top;\n",
       "    }\n",
       "\n",
       "    .dataframe thead th {\n",
       "        text-align: right;\n",
       "    }\n",
       "</style>\n",
       "<table border=\"1\" class=\"dataframe\">\n",
       "  <thead>\n",
       "    <tr style=\"text-align: right;\">\n",
       "      <th></th>\n",
       "      <th>Doses administered</th>\n",
       "      <th>Enough for % of people</th>\n",
       "      <th>Percentage of population with 1+ dose</th>\n",
       "      <th>Percentage of population fully vaccinated</th>\n",
       "      <th>Daily rate of doses administered</th>\n",
       "    </tr>\n",
       "  </thead>\n",
       "  <tbody>\n",
       "    <tr>\n",
       "      <th>count</th>\n",
       "      <td>2.060000e+02</td>\n",
       "      <td>202.000000</td>\n",
       "      <td>200.000000</td>\n",
       "      <td>197.000000</td>\n",
       "      <td>2.030000e+02</td>\n",
       "    </tr>\n",
       "    <tr>\n",
       "      <th>mean</th>\n",
       "      <td>5.763783e+07</td>\n",
       "      <td>35.595050</td>\n",
       "      <td>39.666000</td>\n",
       "      <td>31.940609</td>\n",
       "      <td>3.357373e+05</td>\n",
       "    </tr>\n",
       "    <tr>\n",
       "      <th>std</th>\n",
       "      <td>4.252500e+08</td>\n",
       "      <td>27.253831</td>\n",
       "      <td>28.312058</td>\n",
       "      <td>26.255001</td>\n",
       "      <td>2.441655e+06</td>\n",
       "    </tr>\n",
       "    <tr>\n",
       "      <th>min</th>\n",
       "      <td>2.837000e+03</td>\n",
       "      <td>0.100000</td>\n",
       "      <td>0.100000</td>\n",
       "      <td>0.100000</td>\n",
       "      <td>1.000000e+00</td>\n",
       "    </tr>\n",
       "    <tr>\n",
       "      <th>25%</th>\n",
       "      <td>2.788370e+05</td>\n",
       "      <td>9.800000</td>\n",
       "      <td>14.675000</td>\n",
       "      <td>7.300000</td>\n",
       "      <td>1.473000e+03</td>\n",
       "    </tr>\n",
       "    <tr>\n",
       "      <th>50%</th>\n",
       "      <td>1.667756e+06</td>\n",
       "      <td>31.350000</td>\n",
       "      <td>38.150000</td>\n",
       "      <td>27.300000</td>\n",
       "      <td>1.180900e+04</td>\n",
       "    </tr>\n",
       "    <tr>\n",
       "      <th>75%</th>\n",
       "      <td>1.126877e+07</td>\n",
       "      <td>59.650000</td>\n",
       "      <td>63.400000</td>\n",
       "      <td>55.200000</td>\n",
       "      <td>8.128200e+04</td>\n",
       "    </tr>\n",
       "    <tr>\n",
       "      <th>max</th>\n",
       "      <td>5.663213e+09</td>\n",
       "      <td>116.200000</td>\n",
       "      <td>124.500000</td>\n",
       "      <td>115.500000</td>\n",
       "      <td>3.338038e+07</td>\n",
       "    </tr>\n",
       "  </tbody>\n",
       "</table>\n",
       "</div>"
      ],
      "text/plain": [
       "       Doses administered  Enough for % of people  \\\n",
       "count        2.060000e+02              202.000000   \n",
       "mean         5.763783e+07               35.595050   \n",
       "std          4.252500e+08               27.253831   \n",
       "min          2.837000e+03                0.100000   \n",
       "25%          2.788370e+05                9.800000   \n",
       "50%          1.667756e+06               31.350000   \n",
       "75%          1.126877e+07               59.650000   \n",
       "max          5.663213e+09              116.200000   \n",
       "\n",
       "       Percentage of population with 1+ dose  \\\n",
       "count                             200.000000   \n",
       "mean                               39.666000   \n",
       "std                                28.312058   \n",
       "min                                 0.100000   \n",
       "25%                                14.675000   \n",
       "50%                                38.150000   \n",
       "75%                                63.400000   \n",
       "max                               124.500000   \n",
       "\n",
       "       Percentage of population fully vaccinated  \\\n",
       "count                                 197.000000   \n",
       "mean                                   31.940609   \n",
       "std                                    26.255001   \n",
       "min                                     0.100000   \n",
       "25%                                     7.300000   \n",
       "50%                                    27.300000   \n",
       "75%                                    55.200000   \n",
       "max                                   115.500000   \n",
       "\n",
       "       Daily rate of doses administered  \n",
       "count                      2.030000e+02  \n",
       "mean                       3.357373e+05  \n",
       "std                        2.441655e+06  \n",
       "min                        1.000000e+00  \n",
       "25%                        1.473000e+03  \n",
       "50%                        1.180900e+04  \n",
       "75%                        8.128200e+04  \n",
       "max                        3.338038e+07  "
      ]
     },
     "execution_count": 5,
     "metadata": {},
     "output_type": "execute_result"
    }
   ],
   "source": [
    "df.describe()"
   ]
  },
  {
   "cell_type": "code",
   "execution_count": 6,
   "id": "ab025d45",
   "metadata": {
    "ExecuteTime": {
     "end_time": "2021-09-13T15:45:27.124854Z",
     "start_time": "2021-09-13T15:45:27.115878Z"
    }
   },
   "outputs": [
    {
     "data": {
      "text/plain": [
       "Countries and regions                         object\n",
       "Doses administered                           float64\n",
       "Enough for % of people                       float64\n",
       "Percentage of population with 1+ dose        float64\n",
       "Percentage of population fully vaccinated    float64\n",
       "Daily rate of doses administered             float64\n",
       "dtype: object"
      ]
     },
     "execution_count": 6,
     "metadata": {},
     "output_type": "execute_result"
    }
   ],
   "source": [
    "df.dtypes"
   ]
  },
  {
   "cell_type": "code",
   "execution_count": 7,
   "id": "cb9eccc0",
   "metadata": {
    "ExecuteTime": {
     "end_time": "2021-09-13T15:45:27.546738Z",
     "start_time": "2021-09-13T15:45:27.535773Z"
    }
   },
   "outputs": [
    {
     "data": {
      "text/plain": [
       "0      5.663213e+09\n",
       "1      2.129833e+09\n",
       "2      7.303371e+08\n",
       "3      5.469671e+08\n",
       "4      3.785697e+08\n",
       "           ...     \n",
       "202    1.479000e+04\n",
       "203    7.892000e+03\n",
       "204    4.407000e+03\n",
       "205    2.837000e+03\n",
       "206             NaN\n",
       "Name: Doses administered, Length: 207, dtype: float64"
      ]
     },
     "execution_count": 7,
     "metadata": {},
     "output_type": "execute_result"
    }
   ],
   "source": [
    "df['Doses administered']"
   ]
  },
  {
   "cell_type": "code",
   "execution_count": 8,
   "id": "1652d07a",
   "metadata": {
    "ExecuteTime": {
     "end_time": "2021-09-13T15:45:29.044603Z",
     "start_time": "2021-09-13T15:45:28.150715Z"
    }
   },
   "outputs": [
    {
     "data": {
      "image/png": "[encoded data removed]",
      "text/plain": [
       "<Figure size 1008x720 with 6 Axes>"
      ]
     },
     "metadata": {
      "needs_background": "light"
     },
     "output_type": "display_data"
    }
   ],
   "source": [
    "df.hist(figsize=(14,10), bins=100)\n",
    "plt.show()"
   ]
  },
  {
   "cell_type": "code",
   "execution_count": 9,
   "id": "d476df68",
   "metadata": {
    "ExecuteTime": {
     "end_time": "2021-09-13T15:45:29.770451Z",
     "start_time": "2021-09-13T15:45:29.629827Z"
    }
   },
   "outputs": [
    {
     "data": {
      "image/png": "[encoded data removed]",
      "text/plain": [
       "<Figure size 432x288 with 1 Axes>"
      ]
     },
     "metadata": {
      "needs_background": "light"
     },
     "output_type": "display_data"
    }
   ],
   "source": [
    "plt.hist(x=df['Doses administered'], bins=50)\n",
    "plt.show()"
   ]
  },
  {
   "cell_type": "code",
   "execution_count": 10,
   "id": "3f205dbb",
   "metadata": {
    "ExecuteTime": {
     "end_time": "2021-09-13T15:45:30.759811Z",
     "start_time": "2021-09-13T15:45:30.603932Z"
    }
   },
   "outputs": [
    {
     "data": {
      "image/png": "[encoded data removed]",
      "text/plain": [
       "<Figure size 432x288 with 1 Axes>"
      ]
     },
     "metadata": {
      "needs_background": "light"
     },
     "output_type": "display_data"
    }
   ],
   "source": [
    "sns.violinplot(data=df[['Percentage of population with 1+ dose', 'Enough for % of people']])\n",
    "plt.show()"
   ]
  },
  {
   "cell_type": "code",
   "execution_count": 11,
   "id": "12da169e",
   "metadata": {
    "ExecuteTime": {
     "end_time": "2021-09-13T15:45:31.923511Z",
     "start_time": "2021-09-13T15:45:31.888603Z"
    }
   },
   "outputs": [
    {
     "data": {
      "text/html": [
       "<div>\n",
       "<style scoped>\n",
       "    .dataframe tbody tr th:only-of-type {\n",
       "        vertical-align: middle;\n",
       "    }\n",
       "\n",
       "    .dataframe tbody tr th {\n",
       "        vertical-align: top;\n",
       "    }\n",
       "\n",
       "    .dataframe thead th {\n",
       "        text-align: right;\n",
       "    }\n",
       "</style>\n",
       "<table border=\"1\" class=\"dataframe\">\n",
       "  <thead>\n",
       "    <tr style=\"text-align: right;\">\n",
       "      <th></th>\n",
       "      <th>Countries and regions</th>\n",
       "      <th>Doses administered</th>\n",
       "      <th>Enough for % of people</th>\n",
       "      <th>Percentage of population with 1+ dose</th>\n",
       "      <th>Percentage of population fully vaccinated</th>\n",
       "      <th>Daily rate of doses administered</th>\n",
       "    </tr>\n",
       "  </thead>\n",
       "  <tbody>\n",
       "    <tr>\n",
       "      <th>3</th>\n",
       "      <td>EU</td>\n",
       "      <td>546967065.0</td>\n",
       "      <td>61.6</td>\n",
       "      <td>66.0</td>\n",
       "      <td>61.5</td>\n",
       "      <td>1394444.0</td>\n",
       "    </tr>\n",
       "    <tr>\n",
       "      <th>4</th>\n",
       "      <td>U.S.</td>\n",
       "      <td>378569717.0</td>\n",
       "      <td>59.2</td>\n",
       "      <td>62.9</td>\n",
       "      <td>53.6</td>\n",
       "      <td>721844.0</td>\n",
       "    </tr>\n",
       "    <tr>\n",
       "      <th>5</th>\n",
       "      <td>Brazil</td>\n",
       "      <td>205866758.0</td>\n",
       "      <td>50.0</td>\n",
       "      <td>66.9</td>\n",
       "      <td>33.2</td>\n",
       "      <td>1225902.0</td>\n",
       "    </tr>\n",
       "    <tr>\n",
       "      <th>6</th>\n",
       "      <td>Japan</td>\n",
       "      <td>141432726.0</td>\n",
       "      <td>56.0</td>\n",
       "      <td>62.1</td>\n",
       "      <td>50.0</td>\n",
       "      <td>1196360.0</td>\n",
       "    </tr>\n",
       "    <tr>\n",
       "      <th>8</th>\n",
       "      <td>Germany</td>\n",
       "      <td>103814560.0</td>\n",
       "      <td>62.5</td>\n",
       "      <td>66.4</td>\n",
       "      <td>61.9</td>\n",
       "      <td>196672.0</td>\n",
       "    </tr>\n",
       "    <tr>\n",
       "      <th>...</th>\n",
       "      <td>...</td>\n",
       "      <td>...</td>\n",
       "      <td>...</td>\n",
       "      <td>...</td>\n",
       "      <td>...</td>\n",
       "      <td>...</td>\n",
       "    </tr>\n",
       "    <tr>\n",
       "      <th>193</th>\n",
       "      <td>San Marino</td>\n",
       "      <td>46573.0</td>\n",
       "      <td>68.5</td>\n",
       "      <td>70.5</td>\n",
       "      <td>70.6</td>\n",
       "      <td>2.0</td>\n",
       "    </tr>\n",
       "    <tr>\n",
       "      <th>201</th>\n",
       "      <td>Anguilla</td>\n",
       "      <td>18471.0</td>\n",
       "      <td>61.6</td>\n",
       "      <td>63.3</td>\n",
       "      <td>59.9</td>\n",
       "      <td>1.0</td>\n",
       "    </tr>\n",
       "    <tr>\n",
       "      <th>202</th>\n",
       "      <td>Nauru</td>\n",
       "      <td>14790.0</td>\n",
       "      <td>56.9</td>\n",
       "      <td>58.6</td>\n",
       "      <td>55.2</td>\n",
       "      <td>NaN</td>\n",
       "    </tr>\n",
       "    <tr>\n",
       "      <th>203</th>\n",
       "      <td>St. Helena</td>\n",
       "      <td>7892.0</td>\n",
       "      <td>65.8</td>\n",
       "      <td>72.7</td>\n",
       "      <td>58.9</td>\n",
       "      <td>8.0</td>\n",
       "    </tr>\n",
       "    <tr>\n",
       "      <th>204</th>\n",
       "      <td>Falkland Islands</td>\n",
       "      <td>4407.0</td>\n",
       "      <td>73.5</td>\n",
       "      <td>87.7</td>\n",
       "      <td>59.2</td>\n",
       "      <td>202.0</td>\n",
       "    </tr>\n",
       "  </tbody>\n",
       "</table>\n",
       "<p>80 rows × 6 columns</p>\n",
       "</div>"
      ],
      "text/plain": [
       "    Countries and regions  Doses administered  Enough for % of people  \\\n",
       "3                      EU         546967065.0                    61.6   \n",
       "4                    U.S.         378569717.0                    59.2   \n",
       "5                  Brazil         205866758.0                    50.0   \n",
       "6                   Japan         141432726.0                    56.0   \n",
       "8                 Germany         103814560.0                    62.5   \n",
       "..                    ...                 ...                     ...   \n",
       "193            San Marino             46573.0                    68.5   \n",
       "201              Anguilla             18471.0                    61.6   \n",
       "202                 Nauru             14790.0                    56.9   \n",
       "203            St. Helena              7892.0                    65.8   \n",
       "204      Falkland Islands              4407.0                    73.5   \n",
       "\n",
       "     Percentage of population with 1+ dose  \\\n",
       "3                                     66.0   \n",
       "4                                     62.9   \n",
       "5                                     66.9   \n",
       "6                                     62.1   \n",
       "8                                     66.4   \n",
       "..                                     ...   \n",
       "193                                   70.5   \n",
       "201                                   63.3   \n",
       "202                                   58.6   \n",
       "203                                   72.7   \n",
       "204                                   87.7   \n",
       "\n",
       "     Percentage of population fully vaccinated  \\\n",
       "3                                         61.5   \n",
       "4                                         53.6   \n",
       "5                                         33.2   \n",
       "6                                         50.0   \n",
       "8                                         61.9   \n",
       "..                                         ...   \n",
       "193                                       70.6   \n",
       "201                                       59.9   \n",
       "202                                       55.2   \n",
       "203                                       58.9   \n",
       "204                                       59.2   \n",
       "\n",
       "     Daily rate of doses administered  \n",
       "3                           1394444.0  \n",
       "4                            721844.0  \n",
       "5                           1225902.0  \n",
       "6                           1196360.0  \n",
       "8                            196672.0  \n",
       "..                                ...  \n",
       "193                               2.0  \n",
       "201                               1.0  \n",
       "202                               NaN  \n",
       "203                               8.0  \n",
       "204                             202.0  \n",
       "\n",
       "[80 rows x 6 columns]"
      ]
     },
     "execution_count": 11,
     "metadata": {},
     "output_type": "execute_result"
    }
   ],
   "source": [
    "df.query('`Percentage of population with 1+ dose` >= 50')"
   ]
  },
  {
   "cell_type": "code",
   "execution_count": 12,
   "id": "6c196e8d",
   "metadata": {
    "ExecuteTime": {
     "end_time": "2021-09-13T15:45:37.523296Z",
     "start_time": "2021-09-13T15:45:37.505318Z"
    }
   },
   "outputs": [
    {
     "data": {
      "text/plain": [
       "Countries and regions                        0.00\n",
       "Doses administered                           0.48\n",
       "Daily rate of doses administered             1.93\n",
       "Enough for % of people                       2.42\n",
       "Percentage of population with 1+ dose        3.38\n",
       "Percentage of population fully vaccinated    4.83\n",
       "dtype: float64"
      ]
     },
     "execution_count": 12,
     "metadata": {},
     "output_type": "execute_result"
    }
   ],
   "source": [
    "df.isna().mean().round(4).mul(100).sort_values()"
   ]
  },
  {
   "cell_type": "code",
   "execution_count": 13,
   "id": "2b6f7830",
   "metadata": {
    "ExecuteTime": {
     "end_time": "2021-09-13T15:45:38.858354Z",
     "start_time": "2021-09-13T15:45:38.841411Z"
    }
   },
   "outputs": [],
   "source": [
    "df['Percentage of population with 1+ dose'].fillna((df['Percentage of population fully vaccinated']), inplace=True) "
   ]
  },
  {
   "cell_type": "code",
   "execution_count": 14,
   "id": "0bada7ce",
   "metadata": {
    "ExecuteTime": {
     "end_time": "2021-09-13T15:45:40.469989Z",
     "start_time": "2021-09-13T15:45:40.450042Z"
    }
   },
   "outputs": [
    {
     "data": {
      "text/plain": [
       "Countries and regions                        0.00\n",
       "Doses administered                           0.48\n",
       "Daily rate of doses administered             1.93\n",
       "Enough for % of people                       2.42\n",
       "Percentage of population with 1+ dose        2.90\n",
       "Percentage of population fully vaccinated    4.83\n",
       "dtype: float64"
      ]
     },
     "execution_count": 14,
     "metadata": {},
     "output_type": "execute_result"
    }
   ],
   "source": [
    "df.isna().mean().round(4).mul(100).sort_values()"
   ]
  },
  {
   "cell_type": "code",
   "execution_count": 15,
   "id": "d7bb158a",
   "metadata": {
    "ExecuteTime": {
     "end_time": "2021-09-13T15:45:44.359478Z",
     "start_time": "2021-09-13T15:45:44.349504Z"
    }
   },
   "outputs": [],
   "source": [
    "df.dropna(subset=['Percentage of population fully vaccinated', 'Daily rate of doses administered'], inplace=True)"
   ]
  },
  {
   "cell_type": "code",
   "execution_count": 16,
   "id": "a52c4ee6",
   "metadata": {
    "ExecuteTime": {
     "end_time": "2021-09-13T15:45:44.729809Z",
     "start_time": "2021-09-13T15:45:44.712830Z"
    }
   },
   "outputs": [
    {
     "data": {
      "text/plain": [
       "Countries and regions                        0.0\n",
       "Doses administered                           0.0\n",
       "Enough for % of people                       0.0\n",
       "Percentage of population with 1+ dose        0.0\n",
       "Percentage of population fully vaccinated    0.0\n",
       "Daily rate of doses administered             0.0\n",
       "dtype: float64"
      ]
     },
     "execution_count": 16,
     "metadata": {},
     "output_type": "execute_result"
    }
   ],
   "source": [
    "df.isna().mean().round(4).mul(100).sort_values()"
   ]
  },
  {
   "cell_type": "code",
   "execution_count": 42,
   "id": "1c69ce7f",
   "metadata": {
    "ExecuteTime": {
     "end_time": "2021-09-13T16:27:00.292995Z",
     "start_time": "2021-09-13T16:27:00.275044Z"
    }
   },
   "outputs": [
    {
     "data": {
      "text/html": [
       "<div>\n",
       "<style scoped>\n",
       "    .dataframe tbody tr th:only-of-type {\n",
       "        vertical-align: middle;\n",
       "    }\n",
       "\n",
       "    .dataframe tbody tr th {\n",
       "        vertical-align: top;\n",
       "    }\n",
       "\n",
       "    .dataframe thead th {\n",
       "        text-align: right;\n",
       "    }\n",
       "</style>\n",
       "<table border=\"1\" class=\"dataframe\">\n",
       "  <thead>\n",
       "    <tr style=\"text-align: right;\">\n",
       "      <th></th>\n",
       "      <th></th>\n",
       "      <th>Enough for % of people</th>\n",
       "    </tr>\n",
       "    <tr>\n",
       "      <th>Percentage of population fully vaccinated</th>\n",
       "      <th>Countries and regions</th>\n",
       "      <th></th>\n",
       "    </tr>\n",
       "  </thead>\n",
       "  <tbody>\n",
       "    <tr>\n",
       "      <th rowspan=\"5\" valign=\"top\">0.1</th>\n",
       "      <th>Burkina Faso</th>\n",
       "      <td>0.3</td>\n",
       "    </tr>\n",
       "    <tr>\n",
       "      <th>Chad</th>\n",
       "      <td>0.2</td>\n",
       "    </tr>\n",
       "    <tr>\n",
       "      <th>DR Congo</th>\n",
       "      <td>0.1</td>\n",
       "    </tr>\n",
       "    <tr>\n",
       "      <th>Haiti</th>\n",
       "      <td>0.2</td>\n",
       "    </tr>\n",
       "    <tr>\n",
       "      <th>South Sudan</th>\n",
       "      <td>0.2</td>\n",
       "    </tr>\n",
       "    <tr>\n",
       "      <th>...</th>\n",
       "      <th>...</th>\n",
       "      <td>...</td>\n",
       "    </tr>\n",
       "    <tr>\n",
       "      <th rowspan=\"2\" valign=\"top\">79.1</th>\n",
       "      <th>Qatar</th>\n",
       "      <td>81.9</td>\n",
       "    </tr>\n",
       "    <tr>\n",
       "      <th>Singapore</th>\n",
       "      <td>78.7</td>\n",
       "    </tr>\n",
       "    <tr>\n",
       "      <th>82.8</th>\n",
       "      <th>Maldives</th>\n",
       "      <td>93.4</td>\n",
       "    </tr>\n",
       "    <tr>\n",
       "      <th>84.1</th>\n",
       "      <th>Malta</th>\n",
       "      <td>81.4</td>\n",
       "    </tr>\n",
       "    <tr>\n",
       "      <th>115.5</th>\n",
       "      <th>Gibraltar</th>\n",
       "      <td>116.2</td>\n",
       "    </tr>\n",
       "  </tbody>\n",
       "</table>\n",
       "<p>194 rows × 1 columns</p>\n",
       "</div>"
      ],
      "text/plain": [
       "                                                                 Enough for % of people\n",
       "Percentage of population fully vaccinated Countries and regions                        \n",
       "0.1                                       Burkina Faso                              0.3\n",
       "                                          Chad                                      0.2\n",
       "                                          DR Congo                                  0.1\n",
       "                                          Haiti                                     0.2\n",
       "                                          South Sudan                               0.2\n",
       "...                                                                                 ...\n",
       "79.1                                      Qatar                                    81.9\n",
       "                                          Singapore                                78.7\n",
       "82.8                                      Maldives                                 93.4\n",
       "84.1                                      Malta                                    81.4\n",
       "115.5                                     Gibraltar                               116.2\n",
       "\n",
       "[194 rows x 1 columns]"
      ]
     },
     "execution_count": 42,
     "metadata": {},
     "output_type": "execute_result"
    }
   ],
   "source": [
    "table = pd.pivot_table(df, index=[ 'Percentage of population fully vaccinated', 'Countries and regions'], values=['Enough for % of people'])\n",
    "table"
   ]
  },
  {
   "cell_type": "code",
   "execution_count": 47,
   "id": "f9b9ea1e",
   "metadata": {
    "ExecuteTime": {
     "end_time": "2021-09-13T16:37:37.170137Z",
     "start_time": "2021-09-13T16:37:37.147175Z"
    }
   },
   "outputs": [
    {
     "data": {
      "text/html": [
       "<div>\n",
       "<style scoped>\n",
       "    .dataframe tbody tr th:only-of-type {\n",
       "        vertical-align: middle;\n",
       "    }\n",
       "\n",
       "    .dataframe tbody tr th {\n",
       "        vertical-align: top;\n",
       "    }\n",
       "\n",
       "    .dataframe thead th {\n",
       "        text-align: right;\n",
       "    }\n",
       "</style>\n",
       "<table border=\"1\" class=\"dataframe\">\n",
       "  <thead>\n",
       "    <tr style=\"text-align: right;\">\n",
       "      <th></th>\n",
       "      <th></th>\n",
       "      <th>Enough for % of people</th>\n",
       "    </tr>\n",
       "    <tr>\n",
       "      <th>Percentage of population fully vaccinated</th>\n",
       "      <th>Countries and regions</th>\n",
       "      <th></th>\n",
       "    </tr>\n",
       "  </thead>\n",
       "  <tbody>\n",
       "    <tr>\n",
       "      <th rowspan=\"5\" valign=\"top\">0.1</th>\n",
       "      <th>Burkina Faso</th>\n",
       "      <td>0.3</td>\n",
       "    </tr>\n",
       "    <tr>\n",
       "      <th>Chad</th>\n",
       "      <td>0.2</td>\n",
       "    </tr>\n",
       "    <tr>\n",
       "      <th>DR Congo</th>\n",
       "      <td>0.1</td>\n",
       "    </tr>\n",
       "    <tr>\n",
       "      <th>Haiti</th>\n",
       "      <td>0.2</td>\n",
       "    </tr>\n",
       "    <tr>\n",
       "      <th>South Sudan</th>\n",
       "      <td>0.2</td>\n",
       "    </tr>\n",
       "    <tr>\n",
       "      <th>...</th>\n",
       "      <th>...</th>\n",
       "      <td>...</td>\n",
       "    </tr>\n",
       "    <tr>\n",
       "      <th>47.0</th>\n",
       "      <th>El Salvador</th>\n",
       "      <td>52.9</td>\n",
       "    </tr>\n",
       "    <tr>\n",
       "      <th>47.2</th>\n",
       "      <th>Panama</th>\n",
       "      <td>57.4</td>\n",
       "    </tr>\n",
       "    <tr>\n",
       "      <th>48.1</th>\n",
       "      <th>Turkey</th>\n",
       "      <td>60.8</td>\n",
       "    </tr>\n",
       "    <tr>\n",
       "      <th>48.2</th>\n",
       "      <th>Saudi Arabia</th>\n",
       "      <td>57.4</td>\n",
       "    </tr>\n",
       "    <tr>\n",
       "      <th>49.8</th>\n",
       "      <th>Hong Kong</th>\n",
       "      <td>53.6</td>\n",
       "    </tr>\n",
       "  </tbody>\n",
       "</table>\n",
       "<p>133 rows × 1 columns</p>\n",
       "</div>"
      ],
      "text/plain": [
       "                                                                 Enough for % of people\n",
       "Percentage of population fully vaccinated Countries and regions                        \n",
       "0.1                                       Burkina Faso                              0.3\n",
       "                                          Chad                                      0.2\n",
       "                                          DR Congo                                  0.1\n",
       "                                          Haiti                                     0.2\n",
       "                                          South Sudan                               0.2\n",
       "...                                                                                 ...\n",
       "47.0                                      El Salvador                              52.9\n",
       "47.2                                      Panama                                   57.4\n",
       "48.1                                      Turkey                                   60.8\n",
       "48.2                                      Saudi Arabia                             57.4\n",
       "49.8                                      Hong Kong                                53.6\n",
       "\n",
       "[133 rows x 1 columns]"
      ]
     },
     "execution_count": 47,
     "metadata": {},
     "output_type": "execute_result"
    }
   ],
   "source": [
    "table.query('`Percentage of population fully vaccinated` < 50')"
   ]
  },
  {
   "cell_type": "code",
   "execution_count": 83,
   "id": "f4a32e02",
   "metadata": {
    "ExecuteTime": {
     "end_time": "2021-09-12T06:05:42.367953Z",
     "start_time": "2021-09-12T06:05:42.347891Z"
    },
    "scrolled": true
   },
   "outputs": [
    {
     "data": {
      "text/html": [
       "<div>\n",
       "<style scoped>\n",
       "    .dataframe tbody tr th:only-of-type {\n",
       "        vertical-align: middle;\n",
       "    }\n",
       "\n",
       "    .dataframe tbody tr th {\n",
       "        vertical-align: top;\n",
       "    }\n",
       "\n",
       "    .dataframe thead th {\n",
       "        text-align: right;\n",
       "    }\n",
       "</style>\n",
       "<table border=\"1\" class=\"dataframe\">\n",
       "  <thead>\n",
       "    <tr style=\"text-align: right;\">\n",
       "      <th></th>\n",
       "      <th>Countries and regions</th>\n",
       "      <th>Doses administered</th>\n",
       "      <th>Enough for % of people</th>\n",
       "      <th>Percentage of population with 1+ dose</th>\n",
       "      <th>Percentage of population fully vaccinated</th>\n",
       "      <th>Daily rate of doses administered</th>\n",
       "    </tr>\n",
       "  </thead>\n",
       "  <tbody>\n",
       "    <tr>\n",
       "      <th>1</th>\n",
       "      <td>Mainland China</td>\n",
       "      <td>2129833000.000000</td>\n",
       "      <td>76.100000</td>\n",
       "      <td>69.300000</td>\n",
       "      <td>69.300000</td>\n",
       "      <td>6454714.000000</td>\n",
       "    </tr>\n",
       "    <tr>\n",
       "      <th>2</th>\n",
       "      <td>India</td>\n",
       "      <td>730337116.000000</td>\n",
       "      <td>26.700000</td>\n",
       "      <td>40.300000</td>\n",
       "      <td>12.400000</td>\n",
       "      <td>7616167.000000</td>\n",
       "    </tr>\n",
       "    <tr>\n",
       "      <th>3</th>\n",
       "      <td>EU</td>\n",
       "      <td>546967065.000000</td>\n",
       "      <td>61.600000</td>\n",
       "      <td>66.000000</td>\n",
       "      <td>61.500000</td>\n",
       "      <td>1394444.000000</td>\n",
       "    </tr>\n",
       "    <tr>\n",
       "      <th>4</th>\n",
       "      <td>U.S.</td>\n",
       "      <td>378569717.000000</td>\n",
       "      <td>59.200000</td>\n",
       "      <td>62.900000</td>\n",
       "      <td>53.600000</td>\n",
       "      <td>721844.000000</td>\n",
       "    </tr>\n",
       "    <tr>\n",
       "      <th>5</th>\n",
       "      <td>Brazil</td>\n",
       "      <td>205866758.000000</td>\n",
       "      <td>50.000000</td>\n",
       "      <td>66.900000</td>\n",
       "      <td>33.200000</td>\n",
       "      <td>1225902.000000</td>\n",
       "    </tr>\n",
       "  </tbody>\n",
       "</table>\n",
       "</div>"
      ],
      "text/plain": [
       "  Countries and regions  Doses administered  Enough for % of people  \\\n",
       "1        Mainland China   2129833000.000000               76.100000   \n",
       "2                 India    730337116.000000               26.700000   \n",
       "3                    EU    546967065.000000               61.600000   \n",
       "4                  U.S.    378569717.000000               59.200000   \n",
       "5                Brazil    205866758.000000               50.000000   \n",
       "\n",
       "   Percentage of population with 1+ dose  \\\n",
       "1                              69.300000   \n",
       "2                              40.300000   \n",
       "3                              66.000000   \n",
       "4                              62.900000   \n",
       "5                              66.900000   \n",
       "\n",
       "   Percentage of population fully vaccinated  Daily rate of doses administered  \n",
       "1                                  69.300000                    6454714.000000  \n",
       "2                                  12.400000                    7616167.000000  \n",
       "3                                  61.500000                    1394444.000000  \n",
       "4                                  53.600000                     721844.000000  \n",
       "5                                  33.200000                    1225902.000000  "
      ]
     },
     "execution_count": 83,
     "metadata": {},
     "output_type": "execute_result"
    }
   ],
   "source": [
    "df.head()"
   ]
  },
  {
   "cell_type": "code",
   "execution_count": 91,
   "id": "a3681881",
   "metadata": {
    "ExecuteTime": {
     "end_time": "2021-09-12T06:11:34.649608Z",
     "start_time": "2021-09-12T06:11:34.497951Z"
    }
   },
   "outputs": [
    {
     "data": {
      "image/png": "[encoded data removed]",
      "text/plain": [
       "<Figure size 1080x432 with 1 Axes>"
      ]
     },
     "metadata": {
      "needs_background": "light"
     },
     "output_type": "display_data"
    }
   ],
   "source": [
    "plt.figure(figsize=(15,6))\n",
    "sns.barplot(x='Countries and regions', y='Doses administered', data=df.head(10))\n",
    "plt.show()"
   ]
  },
  {
   "cell_type": "code",
   "execution_count": 100,
   "id": "69686506",
   "metadata": {
    "ExecuteTime": {
     "end_time": "2021-09-12T06:17:13.069072Z",
     "start_time": "2021-09-12T06:17:13.048129Z"
    }
   },
   "outputs": [
    {
     "data": {
      "text/html": [
       "<div>\n",
       "<style scoped>\n",
       "    .dataframe tbody tr th:only-of-type {\n",
       "        vertical-align: middle;\n",
       "    }\n",
       "\n",
       "    .dataframe tbody tr th {\n",
       "        vertical-align: top;\n",
       "    }\n",
       "\n",
       "    .dataframe thead th {\n",
       "        text-align: right;\n",
       "    }\n",
       "</style>\n",
       "<table border=\"1\" class=\"dataframe\">\n",
       "  <thead>\n",
       "    <tr style=\"text-align: right;\">\n",
       "      <th></th>\n",
       "      <th>Countries and regions</th>\n",
       "    </tr>\n",
       "  </thead>\n",
       "  <tbody>\n",
       "    <tr>\n",
       "      <th>Barbados</th>\n",
       "      <td>1</td>\n",
       "    </tr>\n",
       "    <tr>\n",
       "      <th>Kuwait</th>\n",
       "      <td>1</td>\n",
       "    </tr>\n",
       "    <tr>\n",
       "      <th>Cura�ao</th>\n",
       "      <td>1</td>\n",
       "    </tr>\n",
       "    <tr>\n",
       "      <th>Hong Kong</th>\n",
       "      <td>1</td>\n",
       "    </tr>\n",
       "    <tr>\n",
       "      <th>Costa Rica</th>\n",
       "      <td>1</td>\n",
       "    </tr>\n",
       "    <tr>\n",
       "      <th>...</th>\n",
       "      <td>...</td>\n",
       "    </tr>\n",
       "    <tr>\n",
       "      <th>Russia</th>\n",
       "      <td>1</td>\n",
       "    </tr>\n",
       "    <tr>\n",
       "      <th>Serbia</th>\n",
       "      <td>1</td>\n",
       "    </tr>\n",
       "    <tr>\n",
       "      <th>Malta</th>\n",
       "      <td>1</td>\n",
       "    </tr>\n",
       "    <tr>\n",
       "      <th>Colombia</th>\n",
       "      <td>1</td>\n",
       "    </tr>\n",
       "    <tr>\n",
       "      <th>Latvia</th>\n",
       "      <td>1</td>\n",
       "    </tr>\n",
       "  </tbody>\n",
       "</table>\n",
       "<p>194 rows × 1 columns</p>\n",
       "</div>"
      ],
      "text/plain": [
       "            Countries and regions\n",
       "Barbados                        1\n",
       "Kuwait                          1\n",
       "Cura�ao                         1\n",
       "Hong Kong                       1\n",
       "Costa Rica                      1\n",
       "...                           ...\n",
       "Russia                          1\n",
       "Serbia                          1\n",
       "Malta                           1\n",
       "Colombia                        1\n",
       "Latvia                          1\n",
       "\n",
       "[194 rows x 1 columns]"
      ]
     },
     "execution_count": 100,
     "metadata": {},
     "output_type": "execute_result"
    }
   ],
   "source": [
    "df['Countries and regions'].value_counts().sort_values(ascending=True).to_frame()"
   ]
  },
  {
   "cell_type": "code",
   "execution_count": 102,
   "id": "efe935b4",
   "metadata": {
    "ExecuteTime": {
     "end_time": "2021-09-12T06:24:00.160922Z",
     "start_time": "2021-09-12T06:24:00.155936Z"
    }
   },
   "outputs": [],
   "source": [
    "df['Countries code'] = range(1, len(df['Countries and regions']) + 1)"
   ]
  },
  {
   "cell_type": "code",
   "execution_count": 108,
   "id": "9cebb33b",
   "metadata": {
    "ExecuteTime": {
     "end_time": "2021-09-12T06:25:08.581862Z",
     "start_time": "2021-09-12T06:25:08.568869Z"
    }
   },
   "outputs": [
    {
     "data": {
      "text/html": [
       "<div>\n",
       "<style scoped>\n",
       "    .dataframe tbody tr th:only-of-type {\n",
       "        vertical-align: middle;\n",
       "    }\n",
       "\n",
       "    .dataframe tbody tr th {\n",
       "        vertical-align: top;\n",
       "    }\n",
       "\n",
       "    .dataframe thead th {\n",
       "        text-align: right;\n",
       "    }\n",
       "</style>\n",
       "<table border=\"1\" class=\"dataframe\">\n",
       "  <thead>\n",
       "    <tr style=\"text-align: right;\">\n",
       "      <th></th>\n",
       "      <th>Countries and regions</th>\n",
       "      <th>Doses administered</th>\n",
       "      <th>Enough for % of people</th>\n",
       "      <th>Percentage of population with 1+ dose</th>\n",
       "      <th>Percentage of population fully vaccinated</th>\n",
       "      <th>Daily rate of doses administered</th>\n",
       "      <th>Countries code</th>\n",
       "    </tr>\n",
       "  </thead>\n",
       "  <tbody>\n",
       "    <tr>\n",
       "      <th>1</th>\n",
       "      <td>Mainland China</td>\n",
       "      <td>2129833000.000000</td>\n",
       "      <td>76.100000</td>\n",
       "      <td>69.300000</td>\n",
       "      <td>69.300000</td>\n",
       "      <td>6454714.000000</td>\n",
       "      <td>1</td>\n",
       "    </tr>\n",
       "    <tr>\n",
       "      <th>2</th>\n",
       "      <td>India</td>\n",
       "      <td>730337116.000000</td>\n",
       "      <td>26.700000</td>\n",
       "      <td>40.300000</td>\n",
       "      <td>12.400000</td>\n",
       "      <td>7616167.000000</td>\n",
       "      <td>2</td>\n",
       "    </tr>\n",
       "    <tr>\n",
       "      <th>3</th>\n",
       "      <td>EU</td>\n",
       "      <td>546967065.000000</td>\n",
       "      <td>61.600000</td>\n",
       "      <td>66.000000</td>\n",
       "      <td>61.500000</td>\n",
       "      <td>1394444.000000</td>\n",
       "      <td>3</td>\n",
       "    </tr>\n",
       "    <tr>\n",
       "      <th>4</th>\n",
       "      <td>U.S.</td>\n",
       "      <td>378569717.000000</td>\n",
       "      <td>59.200000</td>\n",
       "      <td>62.900000</td>\n",
       "      <td>53.600000</td>\n",
       "      <td>721844.000000</td>\n",
       "      <td>4</td>\n",
       "    </tr>\n",
       "    <tr>\n",
       "      <th>5</th>\n",
       "      <td>Brazil</td>\n",
       "      <td>205866758.000000</td>\n",
       "      <td>50.000000</td>\n",
       "      <td>66.900000</td>\n",
       "      <td>33.200000</td>\n",
       "      <td>1225902.000000</td>\n",
       "      <td>5</td>\n",
       "    </tr>\n",
       "    <tr>\n",
       "      <th>...</th>\n",
       "      <td>...</td>\n",
       "      <td>...</td>\n",
       "      <td>...</td>\n",
       "      <td>...</td>\n",
       "      <td>...</td>\n",
       "      <td>...</td>\n",
       "      <td>...</td>\n",
       "    </tr>\n",
       "    <tr>\n",
       "      <th>199</th>\n",
       "      <td>Guinea-Bissau</td>\n",
       "      <td>31090.000000</td>\n",
       "      <td>0.900000</td>\n",
       "      <td>1.600000</td>\n",
       "      <td>0.200000</td>\n",
       "      <td>44.000000</td>\n",
       "      <td>190</td>\n",
       "    </tr>\n",
       "    <tr>\n",
       "      <th>200</th>\n",
       "      <td>St. Vincent and the Grenadines</td>\n",
       "      <td>30958.000000</td>\n",
       "      <td>14.100000</td>\n",
       "      <td>17.300000</td>\n",
       "      <td>10.800000</td>\n",
       "      <td>305.000000</td>\n",
       "      <td>191</td>\n",
       "    </tr>\n",
       "    <tr>\n",
       "      <th>201</th>\n",
       "      <td>Anguilla</td>\n",
       "      <td>18471.000000</td>\n",
       "      <td>61.600000</td>\n",
       "      <td>63.300000</td>\n",
       "      <td>59.900000</td>\n",
       "      <td>1.000000</td>\n",
       "      <td>192</td>\n",
       "    </tr>\n",
       "    <tr>\n",
       "      <th>203</th>\n",
       "      <td>St. Helena</td>\n",
       "      <td>7892.000000</td>\n",
       "      <td>65.800000</td>\n",
       "      <td>72.700000</td>\n",
       "      <td>58.900000</td>\n",
       "      <td>8.000000</td>\n",
       "      <td>193</td>\n",
       "    </tr>\n",
       "    <tr>\n",
       "      <th>204</th>\n",
       "      <td>Falkland Islands</td>\n",
       "      <td>4407.000000</td>\n",
       "      <td>73.500000</td>\n",
       "      <td>87.700000</td>\n",
       "      <td>59.200000</td>\n",
       "      <td>202.000000</td>\n",
       "      <td>194</td>\n",
       "    </tr>\n",
       "  </tbody>\n",
       "</table>\n",
       "<p>194 rows × 7 columns</p>\n",
       "</div>"
      ],
      "text/plain": [
       "              Countries and regions  Doses administered  \\\n",
       "1                    Mainland China   2129833000.000000   \n",
       "2                             India    730337116.000000   \n",
       "3                                EU    546967065.000000   \n",
       "4                              U.S.    378569717.000000   \n",
       "5                            Brazil    205866758.000000   \n",
       "..                              ...                 ...   \n",
       "199                   Guinea-Bissau        31090.000000   \n",
       "200  St. Vincent and the Grenadines        30958.000000   \n",
       "201                        Anguilla        18471.000000   \n",
       "203                      St. Helena         7892.000000   \n",
       "204                Falkland Islands         4407.000000   \n",
       "\n",
       "     Enough for % of people  Percentage of population with 1+ dose  \\\n",
       "1                 76.100000                              69.300000   \n",
       "2                 26.700000                              40.300000   \n",
       "3                 61.600000                              66.000000   \n",
       "4                 59.200000                              62.900000   \n",
       "5                 50.000000                              66.900000   \n",
       "..                      ...                                    ...   \n",
       "199                0.900000                               1.600000   \n",
       "200               14.100000                              17.300000   \n",
       "201               61.600000                              63.300000   \n",
       "203               65.800000                              72.700000   \n",
       "204               73.500000                              87.700000   \n",
       "\n",
       "     Percentage of population fully vaccinated  \\\n",
       "1                                    69.300000   \n",
       "2                                    12.400000   \n",
       "3                                    61.500000   \n",
       "4                                    53.600000   \n",
       "5                                    33.200000   \n",
       "..                                         ...   \n",
       "199                                   0.200000   \n",
       "200                                  10.800000   \n",
       "201                                  59.900000   \n",
       "203                                  58.900000   \n",
       "204                                  59.200000   \n",
       "\n",
       "     Daily rate of doses administered  Countries code  \n",
       "1                      6454714.000000               1  \n",
       "2                      7616167.000000               2  \n",
       "3                      1394444.000000               3  \n",
       "4                       721844.000000               4  \n",
       "5                      1225902.000000               5  \n",
       "..                                ...             ...  \n",
       "199                         44.000000             190  \n",
       "200                        305.000000             191  \n",
       "201                          1.000000             192  \n",
       "203                          8.000000             193  \n",
       "204                        202.000000             194  \n",
       "\n",
       "[194 rows x 7 columns]"
      ]
     },
     "execution_count": 108,
     "metadata": {},
     "output_type": "execute_result"
    }
   ],
   "source": [
    "df"
   ]
  },
  {
   "cell_type": "code",
   "execution_count": 113,
   "id": "3dbad9e1",
   "metadata": {
    "ExecuteTime": {
     "end_time": "2021-09-12T06:30:00.478998Z",
     "start_time": "2021-09-12T06:30:00.467006Z"
    }
   },
   "outputs": [],
   "source": [
    "colunas = df.columns.to_list()\n",
    "colunas = colunas[-1:] + colunas[:-1]"
   ]
  },
  {
   "cell_type": "code",
   "execution_count": 115,
   "id": "a352d5c5",
   "metadata": {
    "ExecuteTime": {
     "end_time": "2021-09-12T06:30:22.767369Z",
     "start_time": "2021-09-12T06:30:22.752409Z"
    }
   },
   "outputs": [],
   "source": [
    "df = df[colunas]"
   ]
  },
  {
   "cell_type": "code",
   "execution_count": 116,
   "id": "e3f558a5",
   "metadata": {
    "ExecuteTime": {
     "end_time": "2021-09-12T06:30:26.051888Z",
     "start_time": "2021-09-12T06:30:26.043904Z"
    }
   },
   "outputs": [
    {
     "data": {
      "text/html": [
       "<div>\n",
       "<style scoped>\n",
       "    .dataframe tbody tr th:only-of-type {\n",
       "        vertical-align: middle;\n",
       "    }\n",
       "\n",
       "    .dataframe tbody tr th {\n",
       "        vertical-align: top;\n",
       "    }\n",
       "\n",
       "    .dataframe thead th {\n",
       "        text-align: right;\n",
       "    }\n",
       "</style>\n",
       "<table border=\"1\" class=\"dataframe\">\n",
       "  <thead>\n",
       "    <tr style=\"text-align: right;\">\n",
       "      <th></th>\n",
       "      <th>Countries code</th>\n",
       "      <th>Countries and regions</th>\n",
       "      <th>Doses administered</th>\n",
       "      <th>Enough for % of people</th>\n",
       "      <th>Percentage of population with 1+ dose</th>\n",
       "      <th>Percentage of population fully vaccinated</th>\n",
       "      <th>Daily rate of doses administered</th>\n",
       "    </tr>\n",
       "  </thead>\n",
       "  <tbody>\n",
       "    <tr>\n",
       "      <th>1</th>\n",
       "      <td>1</td>\n",
       "      <td>Mainland China</td>\n",
       "      <td>2129833000.000000</td>\n",
       "      <td>76.100000</td>\n",
       "      <td>69.300000</td>\n",
       "      <td>69.300000</td>\n",
       "      <td>6454714.000000</td>\n",
       "    </tr>\n",
       "    <tr>\n",
       "      <th>2</th>\n",
       "      <td>2</td>\n",
       "      <td>India</td>\n",
       "      <td>730337116.000000</td>\n",
       "      <td>26.700000</td>\n",
       "      <td>40.300000</td>\n",
       "      <td>12.400000</td>\n",
       "      <td>7616167.000000</td>\n",
       "    </tr>\n",
       "    <tr>\n",
       "      <th>3</th>\n",
       "      <td>3</td>\n",
       "      <td>EU</td>\n",
       "      <td>546967065.000000</td>\n",
       "      <td>61.600000</td>\n",
       "      <td>66.000000</td>\n",
       "      <td>61.500000</td>\n",
       "      <td>1394444.000000</td>\n",
       "    </tr>\n",
       "    <tr>\n",
       "      <th>4</th>\n",
       "      <td>4</td>\n",
       "      <td>U.S.</td>\n",
       "      <td>378569717.000000</td>\n",
       "      <td>59.200000</td>\n",
       "      <td>62.900000</td>\n",
       "      <td>53.600000</td>\n",
       "      <td>721844.000000</td>\n",
       "    </tr>\n",
       "    <tr>\n",
       "      <th>5</th>\n",
       "      <td>5</td>\n",
       "      <td>Brazil</td>\n",
       "      <td>205866758.000000</td>\n",
       "      <td>50.000000</td>\n",
       "      <td>66.900000</td>\n",
       "      <td>33.200000</td>\n",
       "      <td>1225902.000000</td>\n",
       "    </tr>\n",
       "    <tr>\n",
       "      <th>...</th>\n",
       "      <td>...</td>\n",
       "      <td>...</td>\n",
       "      <td>...</td>\n",
       "      <td>...</td>\n",
       "      <td>...</td>\n",
       "      <td>...</td>\n",
       "      <td>...</td>\n",
       "    </tr>\n",
       "    <tr>\n",
       "      <th>199</th>\n",
       "      <td>190</td>\n",
       "      <td>Guinea-Bissau</td>\n",
       "      <td>31090.000000</td>\n",
       "      <td>0.900000</td>\n",
       "      <td>1.600000</td>\n",
       "      <td>0.200000</td>\n",
       "      <td>44.000000</td>\n",
       "    </tr>\n",
       "    <tr>\n",
       "      <th>200</th>\n",
       "      <td>191</td>\n",
       "      <td>St. Vincent and the Grenadines</td>\n",
       "      <td>30958.000000</td>\n",
       "      <td>14.100000</td>\n",
       "      <td>17.300000</td>\n",
       "      <td>10.800000</td>\n",
       "      <td>305.000000</td>\n",
       "    </tr>\n",
       "    <tr>\n",
       "      <th>201</th>\n",
       "      <td>192</td>\n",
       "      <td>Anguilla</td>\n",
       "      <td>18471.000000</td>\n",
       "      <td>61.600000</td>\n",
       "      <td>63.300000</td>\n",
       "      <td>59.900000</td>\n",
       "      <td>1.000000</td>\n",
       "    </tr>\n",
       "    <tr>\n",
       "      <th>203</th>\n",
       "      <td>193</td>\n",
       "      <td>St. Helena</td>\n",
       "      <td>7892.000000</td>\n",
       "      <td>65.800000</td>\n",
       "      <td>72.700000</td>\n",
       "      <td>58.900000</td>\n",
       "      <td>8.000000</td>\n",
       "    </tr>\n",
       "    <tr>\n",
       "      <th>204</th>\n",
       "      <td>194</td>\n",
       "      <td>Falkland Islands</td>\n",
       "      <td>4407.000000</td>\n",
       "      <td>73.500000</td>\n",
       "      <td>87.700000</td>\n",
       "      <td>59.200000</td>\n",
       "      <td>202.000000</td>\n",
       "    </tr>\n",
       "  </tbody>\n",
       "</table>\n",
       "<p>194 rows × 7 columns</p>\n",
       "</div>"
      ],
      "text/plain": [
       "     Countries code           Countries and regions  Doses administered  \\\n",
       "1                 1                  Mainland China   2129833000.000000   \n",
       "2                 2                           India    730337116.000000   \n",
       "3                 3                              EU    546967065.000000   \n",
       "4                 4                            U.S.    378569717.000000   \n",
       "5                 5                          Brazil    205866758.000000   \n",
       "..              ...                             ...                 ...   \n",
       "199             190                   Guinea-Bissau        31090.000000   \n",
       "200             191  St. Vincent and the Grenadines        30958.000000   \n",
       "201             192                        Anguilla        18471.000000   \n",
       "203             193                      St. Helena         7892.000000   \n",
       "204             194                Falkland Islands         4407.000000   \n",
       "\n",
       "     Enough for % of people  Percentage of population with 1+ dose  \\\n",
       "1                 76.100000                              69.300000   \n",
       "2                 26.700000                              40.300000   \n",
       "3                 61.600000                              66.000000   \n",
       "4                 59.200000                              62.900000   \n",
       "5                 50.000000                              66.900000   \n",
       "..                      ...                                    ...   \n",
       "199                0.900000                               1.600000   \n",
       "200               14.100000                              17.300000   \n",
       "201               61.600000                              63.300000   \n",
       "203               65.800000                              72.700000   \n",
       "204               73.500000                              87.700000   \n",
       "\n",
       "     Percentage of population fully vaccinated  \\\n",
       "1                                    69.300000   \n",
       "2                                    12.400000   \n",
       "3                                    61.500000   \n",
       "4                                    53.600000   \n",
       "5                                    33.200000   \n",
       "..                                         ...   \n",
       "199                                   0.200000   \n",
       "200                                  10.800000   \n",
       "201                                  59.900000   \n",
       "203                                  58.900000   \n",
       "204                                  59.200000   \n",
       "\n",
       "     Daily rate of doses administered  \n",
       "1                      6454714.000000  \n",
       "2                      7616167.000000  \n",
       "3                      1394444.000000  \n",
       "4                       721844.000000  \n",
       "5                      1225902.000000  \n",
       "..                                ...  \n",
       "199                         44.000000  \n",
       "200                        305.000000  \n",
       "201                          1.000000  \n",
       "203                          8.000000  \n",
       "204                        202.000000  \n",
       "\n",
       "[194 rows x 7 columns]"
      ]
     },
     "execution_count": 116,
     "metadata": {},
     "output_type": "execute_result"
    }
   ],
   "source": [
    "df"
   ]
  },
  {
   "cell_type": "code",
   "execution_count": 202,
   "id": "fda8bb55",
   "metadata": {
    "ExecuteTime": {
     "end_time": "2021-09-12T07:16:42.013193Z",
     "start_time": "2021-09-12T07:16:41.903487Z"
    }
   },
   "outputs": [
    {
     "data": {
      "image/png": "[encoded data removed]",
      "text/plain": [
       "<Figure size 432x432 with 1 Axes>"
      ]
     },
     "metadata": {
      "needs_background": "light"
     },
     "output_type": "display_data"
    }
   ],
   "source": [
    "plt.figure(figsize=(6, 6))\n",
    "plt.scatter(df.iloc[:, 3], df.iloc[:, -2])\n",
    "plt.xlabel('Quantidade de doses para a população em %')\n",
    "plt.ylabel('Porcentagem da Populacao totalmente vacinada')\n",
    "plt.show()"
   ]
  },
  {
   "cell_type": "code",
   "execution_count": 163,
   "id": "4073c349",
   "metadata": {
    "ExecuteTime": {
     "end_time": "2021-09-12T07:06:12.532459Z",
     "start_time": "2021-09-12T07:06:12.522461Z"
    }
   },
   "outputs": [
    {
     "data": {
      "text/html": [
       "<div>\n",
       "<style scoped>\n",
       "    .dataframe tbody tr th:only-of-type {\n",
       "        vertical-align: middle;\n",
       "    }\n",
       "\n",
       "    .dataframe tbody tr th {\n",
       "        vertical-align: top;\n",
       "    }\n",
       "\n",
       "    .dataframe thead th {\n",
       "        text-align: right;\n",
       "    }\n",
       "</style>\n",
       "<table border=\"1\" class=\"dataframe\">\n",
       "  <thead>\n",
       "    <tr style=\"text-align: right;\">\n",
       "      <th></th>\n",
       "      <th>Countries code</th>\n",
       "      <th>Countries and regions</th>\n",
       "      <th>Doses administered</th>\n",
       "      <th>Enough for % of people</th>\n",
       "      <th>Percentage of population with 1+ dose</th>\n",
       "      <th>Percentage of population fully vaccinated</th>\n",
       "      <th>Daily rate of doses administered</th>\n",
       "    </tr>\n",
       "  </thead>\n",
       "  <tbody>\n",
       "    <tr>\n",
       "      <th>180</th>\n",
       "      <td>173</td>\n",
       "      <td>Gibraltar</td>\n",
       "      <td>79027.000000</td>\n",
       "      <td>116.200000</td>\n",
       "      <td>116.900000</td>\n",
       "      <td>115.500000</td>\n",
       "      <td>20.000000</td>\n",
       "    </tr>\n",
       "  </tbody>\n",
       "</table>\n",
       "</div>"
      ],
      "text/plain": [
       "     Countries code Countries and regions  Doses administered  \\\n",
       "180             173             Gibraltar        79027.000000   \n",
       "\n",
       "     Enough for % of people  Percentage of population with 1+ dose  \\\n",
       "180              116.200000                             116.900000   \n",
       "\n",
       "     Percentage of population fully vaccinated  \\\n",
       "180                                 115.500000   \n",
       "\n",
       "     Daily rate of doses administered  \n",
       "180                         20.000000  "
      ]
     },
     "execution_count": 163,
     "metadata": {},
     "output_type": "execute_result"
    }
   ],
   "source": [
    "df[df['Percentage of population fully vaccinated'] > 100]"
   ]
  },
  {
   "cell_type": "code",
   "execution_count": 211,
   "id": "cce3e5b7",
   "metadata": {
    "ExecuteTime": {
     "end_time": "2021-09-12T07:21:57.357362Z",
     "start_time": "2021-09-12T07:21:57.281564Z"
    }
   },
   "outputs": [
    {
     "data": {
      "image/png": "[encoded data removed]",
      "text/plain": [
       "<Figure size 432x432 with 1 Axes>"
      ]
     },
     "metadata": {
      "needs_background": "light"
     },
     "output_type": "display_data"
    }
   ],
   "source": [
    "plt.figure(figsize=(6, 6))\n",
    "sns.boxplot(y=df['Percentage of population fully vaccinated'])\n",
    "plt.show()"
   ]
  },
  {
   "cell_type": "code",
   "execution_count": 218,
   "id": "3be17e74",
   "metadata": {
    "ExecuteTime": {
     "end_time": "2021-09-12T07:22:43.368939Z",
     "start_time": "2021-09-12T07:22:43.359963Z"
    }
   },
   "outputs": [],
   "source": [
    "X = df.iloc[:, [3, -2]].values"
   ]
  },
  {
   "cell_type": "code",
   "execution_count": 219,
   "id": "e2195d0a",
   "metadata": {
    "ExecuteTime": {
     "end_time": "2021-09-12T07:22:43.761145Z",
     "start_time": "2021-09-12T07:22:43.745056Z"
    }
   },
   "outputs": [],
   "source": [
    "from sklearn.preprocessing import StandardScaler\n",
    "scaler = StandardScaler()\n",
    "X = scaler.fit_transform(X)"
   ]
  },
  {
   "cell_type": "code",
   "execution_count": 235,
   "id": "473d4d33",
   "metadata": {
    "ExecuteTime": {
     "end_time": "2021-09-12T07:25:05.061146Z",
     "start_time": "2021-09-12T07:25:04.511214Z"
    }
   },
   "outputs": [
    {
     "name": "stderr",
     "output_type": "stream",
     "text": [
      "C:\\Users\\User\\anaconda3\\lib\\site-packages\\sklearn\\cluster\\_kmeans.py:881: UserWarning: KMeans is known to have a memory leak on Windows with MKL, when there are less chunks than available threads. You can avoid it by setting the environment variable OMP_NUM_THREADS=1.\n",
      "  warnings.warn(\n"
     ]
    }
   ],
   "source": [
    "from sklearn.cluster import KMeans\n",
    "wcss = []\n",
    "\n",
    "for i in range(1, 11):\n",
    "    kmeans = KMeans(n_clusters=i, random_state=19)\n",
    "    kmeans.fit(X)\n",
    "    wcss.append(kmeans.inertia_)"
   ]
  },
  {
   "cell_type": "code",
   "execution_count": 243,
   "id": "4052829b",
   "metadata": {
    "ExecuteTime": {
     "end_time": "2021-09-12T07:28:15.595278Z",
     "start_time": "2021-09-12T07:28:15.485764Z"
    }
   },
   "outputs": [
    {
     "data": {
      "image/png": "[encoded data removed]",
      "text/plain": [
       "<Figure size 432x288 with 1 Axes>"
      ]
     },
     "metadata": {
      "needs_background": "light"
     },
     "output_type": "display_data"
    }
   ],
   "source": [
    "plt.plot(range(1, 11), wcss)\n",
    "plt.title('Metodo Cotovelo')\n",
    "plt.xlabel('Numero de Clusters')\n",
    "plt.ylabel('WCSS')\n",
    "plt.show()"
   ]
  },
  {
   "cell_type": "code",
   "execution_count": 247,
   "id": "778fd282",
   "metadata": {
    "ExecuteTime": {
     "end_time": "2021-09-12T07:29:05.960346Z",
     "start_time": "2021-09-12T07:29:05.937359Z"
    }
   },
   "outputs": [],
   "source": [
    "kmeans = KMeans(n_clusters=3, random_state=19)\n",
    "y_kmeans = kmeans.fit_predict(X)"
   ]
  },
  {
   "cell_type": "code",
   "execution_count": 248,
   "id": "ed727789",
   "metadata": {
    "ExecuteTime": {
     "end_time": "2021-09-12T07:29:06.673711Z",
     "start_time": "2021-09-12T07:29:06.572011Z"
    }
   },
   "outputs": [
    {
     "data": {
      "text/plain": [
       "<matplotlib.collections.PathCollection at 0x2ccb2260fa0>"
      ]
     },
     "execution_count": 248,
     "metadata": {},
     "output_type": "execute_result"
    },
    {
     "data": {
      "image/png": "[encoded data removed]",
      "text/plain": [
       "<Figure size 432x432 with 1 Axes>"
      ]
     },
     "metadata": {
      "needs_background": "light"
     },
     "output_type": "display_data"
    }
   ],
   "source": [
    "plt.figure(figsize=(6, 6))\n",
    "plt.scatter(X[y_kmeans == 0, 0], X[y_kmeans == 0, 1], c = 'red', label = 'Cluster 1')\n",
    "plt.scatter(X[y_kmeans == 1, 0], X[y_kmeans == 1, 1], c = 'blue', label = 'Cluster 2')\n",
    "plt.scatter(X[y_kmeans == 2, 0], X[y_kmeans == 2, 1], c = 'green', label = 'Cluster 3')\n",
    "plt.scatter(kmeans.cluster_centers_[:, 0], kmeans.cluster_centers_[:, 1], s=200, c='yellow', label='Centroids')\n",
    "# plt.scatter(X[y_kmeans == 3, 0], X[y_kmeans == 3, 1], c = 'brown', label = 'Cluster 4')\n",
    "# plt.scatter(X[y_kmeans == 4, 0], X[y_kmeans == 4, 1], c = 'black', label = 'Cluster 5')"
   ]
  },
  {
   "cell_type": "code",
   "execution_count": null,
   "id": "28fa351a",
   "metadata": {},
   "outputs": [],
   "source": []
  },
  {
   "cell_type": "code",
   "execution_count": null,
   "id": "ffcbed77",
   "metadata": {},
   "outputs": [],
   "source": [
    "# "
   ]
  }
 ],
 "metadata": {
  "kernelspec": {
   "display_name": "Python 3",
   "language": "python",
   "name": "python3"
  },
  "language_info": {
   "codemirror_mode": {
    "name": "ipython",
    "version": 3
   },
   "file_extension": ".py",
   "mimetype": "text/x-python",
   "name": "python",
   "nbconvert_exporter": "python",
   "pygments_lexer": "ipython3",
   "version": "3.8.8"
  },
  "toc": {
   "base_numbering": 1,
   "nav_menu": {},
   "number_sections": true,
   "sideBar": true,
   "skip_h1_title": false,
   "title_cell": "Table of Contents",
   "title_sidebar": "Contents",
   "toc_cell": false,
   "toc_position": {},
   "toc_section_display": true,
   "toc_window_display": false
  }
 },
 "nbformat": 4,
 "nbformat_minor": 5
}
